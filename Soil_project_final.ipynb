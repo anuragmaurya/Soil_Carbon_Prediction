{
 "cells": [
  {
   "cell_type": "code",
   "execution_count": 1,
   "metadata": {
    "colab": {
     "base_uri": "https://localhost:8080/",
     "height": 34
    },
    "colab_type": "code",
    "id": "qANo4xGE6tAX",
    "outputId": "b2216b01-6ec8-44d8-a259-1d4373b811c7"
   },
   "outputs": [],
   "source": [
    "from google.colab import drive\n",
    "drive.mount('/content/drive')"
   ]
  },
  {
   "cell_type": "code",
   "execution_count": 2,
   "metadata": {
    "colab": {
     "base_uri": "https://localhost:8080/",
     "height": 34
    },
    "colab_type": "code",
    "id": "7wzzwRWe60NW",
    "outputId": "2a238fde-2021-4258-cd4a-a46c055aa67e"
   },
   "outputs": [
    {
     "name": "stdout",
     "output_type": "stream",
     "text": [
      "drive  sample_data\n"
     ]
    }
   ],
   "source": [
    "!ls"
   ]
  },
  {
   "cell_type": "code",
   "execution_count": 3,
   "metadata": {
    "colab": {},
    "colab_type": "code",
    "id": "xLUj8pjH7Qtk"
   },
   "outputs": [],
   "source": [
    "import numpy as np\n",
    "import pandas as pd\n",
    "import os\n",
    "from skimage.transform import resize\n",
    "from skimage.io import imread"
   ]
  },
  {
   "cell_type": "code",
   "execution_count": 4,
   "metadata": {
    "colab": {
     "base_uri": "https://localhost:8080/",
     "height": 71
    },
    "colab_type": "code",
    "id": "Oup0S59P7b5d",
    "outputId": "aa08666a-6f46-4928-f559-3083f206fea9"
   },
   "outputs": [
    {
     "name": "stderr",
     "output_type": "stream",
     "text": [
      "/usr/local/lib/python3.6/dist-packages/skimage/transform/_warps.py:84: UserWarning: The default mode, 'constant', will be changed to 'reflect' in skimage 0.15.\n",
      "  warn(\"The default mode, 'constant', will be changed to 'reflect' in \"\n"
     ]
    }
   ],
   "source": [
    "y=np.asarray(pd.read_csv('drive/My Drive/Soil_Samples/different_features_values_of_all_samples.csv')['carbon_percent'])\n",
    "images = []\n",
    "tr_path, ts_path=[],[]\n",
    "for image_path in os.listdir('drive/My Drive/Soil_Samples/Selected_Cropped_Images'):\n",
    "    path='drive/My Drive/Soil_Samples/Selected_Cropped_Images'+ '/' + image_path\n",
    "    tr_path.append(path)\n",
    "    img = imread(path)\n",
    "    img = resize(img, (800, 1120, 3))\n",
    "    images.append(img)\n",
    "\n",
    "X=np.asarray(images)    "
   ]
  },
  {
   "cell_type": "code",
   "execution_count": 5,
   "metadata": {
    "colab": {},
    "colab_type": "code",
    "id": "BlX3J9VU7b7X"
   },
   "outputs": [],
   "source": [
    "from sklearn.model_selection import train_test_split\n",
    "\n",
    "X_train, X_test, y_train, y_test = train_test_split(X, y,  test_size=0.25)"
   ]
  },
  {
   "cell_type": "code",
   "execution_count": 6,
   "metadata": {
    "colab": {
     "base_uri": "https://localhost:8080/",
     "height": 34
    },
    "colab_type": "code",
    "id": "_5kVz5uW7zoc",
    "outputId": "b19430df-164a-4931-bda5-7374aa35ce7b"
   },
   "outputs": [
    {
     "name": "stderr",
     "output_type": "stream",
     "text": [
      "Using TensorFlow backend.\n"
     ]
    }
   ],
   "source": [
    "from keras.models import Sequential\n",
    "from keras.layers import Conv2D\n",
    "from keras.layers import MaxPooling2D, Dropout\n",
    "from keras.layers import Flatten\n",
    "from keras.layers import Dense\n"
   ]
  },
  {
   "cell_type": "code",
   "execution_count": 7,
   "metadata": {
    "colab": {},
    "colab_type": "code",
    "id": "BPsuXQ8k7zqU"
   },
   "outputs": [],
   "source": [
    "regressor = Sequential()"
   ]
  },
  {
   "cell_type": "code",
   "execution_count": 8,
   "metadata": {
    "colab": {},
    "colab_type": "code",
    "id": "2BFolMZa7zs9"
   },
   "outputs": [],
   "source": [
    "# Step 1 - Convolution\n",
    "regressor.add(Conv2D(32, (3, 3), input_shape = (800, 1120, 3), activation = 'relu'))"
   ]
  },
  {
   "cell_type": "code",
   "execution_count": 9,
   "metadata": {
    "colab": {},
    "colab_type": "code",
    "id": "r-4jtyVs7zwu"
   },
   "outputs": [],
   "source": [
    "# Step 2 - Pooling\n",
    "regressor.add(MaxPooling2D(pool_size = (2, 2)))\n",
    "regressor.add(Conv2D(64, (3, 3), activation = 'relu'))\n",
    "regressor.add(MaxPooling2D(pool_size = (2, 2)))\n",
    "regressor.add(Conv2D(32, (3, 3), activation = 'relu'))\n",
    "regressor.add(MaxPooling2D(pool_size = (2, 2)))\n",
    "regressor.add(Conv2D(32, (3, 3), activation = 'relu'))\n",
    "regressor.add(MaxPooling2D(pool_size = (2, 2)))\n",
    "regressor.add(Dropout(0.3))"
   ]
  },
  {
   "cell_type": "code",
   "execution_count": 10,
   "metadata": {
    "colab": {},
    "colab_type": "code",
    "id": "FQ6HscT47b_F"
   },
   "outputs": [],
   "source": [
    "regressor.add(Flatten())"
   ]
  },
  {
   "cell_type": "code",
   "execution_count": 11,
   "metadata": {
    "colab": {},
    "colab_type": "code",
    "id": "fLiTvlV18voJ"
   },
   "outputs": [],
   "source": [
    "# Step 4 - Full connection\n",
    "regressor.add(Dense(units = 8, activation = 'relu'))\n",
    "regressor.add(Dense(units = 1, activation = 'linear'))"
   ]
  },
  {
   "cell_type": "code",
   "execution_count": 41,
   "metadata": {
    "colab": {
     "base_uri": "https://localhost:8080/",
     "height": 544
    },
    "colab_type": "code",
    "id": "os6vfQrI8vqI",
    "outputId": "99fe0724-fa6b-40bd-ca94-b8b361f05434",
    "scrolled": true
   },
   "outputs": [
    {
     "name": "stdout",
     "output_type": "stream",
     "text": [
      "Epoch 1/15\n",
      "79/79 [==============================] - 10s 130ms/step - loss: 1.3431 - mean_absolute_error: 0.8552\n",
      "Epoch 2/15\n",
      "79/79 [==============================] - 10s 123ms/step - loss: 1.0727 - mean_absolute_error: 0.8081\n",
      "Epoch 3/15\n",
      "79/79 [==============================] - 10s 123ms/step - loss: 1.0411 - mean_absolute_error: 0.7604\n",
      "Epoch 4/15\n",
      "79/79 [==============================] - 10s 123ms/step - loss: 1.0142 - mean_absolute_error: 0.8116\n",
      "Epoch 5/15\n",
      "79/79 [==============================] - 10s 125ms/step - loss: 1.0889 - mean_absolute_error: 0.8070\n",
      "Epoch 6/15\n",
      "79/79 [==============================] - 10s 123ms/step - loss: 1.0514 - mean_absolute_error: 0.6895\n",
      "Epoch 7/15\n",
      "79/79 [==============================] - 10s 124ms/step - loss: 1.1651 - mean_absolute_error: 0.9017\n",
      "Epoch 8/15\n",
      "79/79 [==============================] - 10s 123ms/step - loss: 1.4889 - mean_absolute_error: 0.7340\n",
      "Epoch 9/15\n",
      "79/79 [==============================] - 10s 122ms/step - loss: 1.2249 - mean_absolute_error: 0.8885\n",
      "Epoch 10/15\n",
      "79/79 [==============================] - 10s 122ms/step - loss: 1.0979 - mean_absolute_error: 0.6836\n",
      "Epoch 11/15\n",
      "79/79 [==============================] - 10s 123ms/step - loss: 1.0235 - mean_absolute_error: 0.8478\n",
      "Epoch 12/15\n",
      "79/79 [==============================] - 10s 123ms/step - loss: 1.0292 - mean_absolute_error: 0.6706\n",
      "Epoch 13/15\n",
      "79/79 [==============================] - 10s 123ms/step - loss: 0.9953 - mean_absolute_error: 0.7901\n",
      "Epoch 14/15\n",
      "79/79 [==============================] - 10s 131ms/step - loss: 1.0782 - mean_absolute_error: 0.8241\n",
      "Epoch 15/15\n",
      "79/79 [==============================] - 10s 128ms/step - loss: 1.0581 - mean_absolute_error: 0.6757\n"
     ]
    },
    {
     "data": {
      "text/plain": [
       "<keras.callbacks.History at 0x7f7d8c604828>"
      ]
     },
     "execution_count": 41,
     "metadata": {
      "tags": []
     },
     "output_type": "execute_result"
    }
   ],
   "source": [
    "# Compiling the CNN\n",
    "regressor.compile(optimizer = 'adam', loss = 'mse', metrics = ['mae'])\n",
    "regressor.fit(X_train, y_train, batch_size =8, epochs =15)\n"
   ]
  },
  {
   "cell_type": "code",
   "execution_count": 42,
   "metadata": {
    "colab": {},
    "colab_type": "code",
    "id": "9ypXuqEy8vwL"
   },
   "outputs": [],
   "source": [
    "y_pred = regressor.predict(X_test)"
   ]
  },
  {
   "cell_type": "code",
   "execution_count": 44,
   "metadata": {
    "colab": {
     "base_uri": "https://localhost:8080/",
     "height": 34
    },
    "colab_type": "code",
    "id": "OrMXX9c7_KTb",
    "outputId": "661bd99e-4d70-4885-9555-0b30217b0390"
   },
   "outputs": [
    {
     "name": "stdout",
     "output_type": "stream",
     "text": [
      "0.7829018223266836\n"
     ]
    }
   ],
   "source": [
    "from sklearn.metrics import r2_score\n",
    "r2_score(y_test,y_pred)"
   ]
  },
  {
   "cell_type": "code",
   "execution_count": 0,
   "metadata": {
    "colab": {},
    "colab_type": "code",
    "id": "XEuDRdZPLjRX"
   },
   "outputs": [],
   "source": []
  }
 ],
 "metadata": {
  "accelerator": "TPU",
  "colab": {
   "name": "Soil_project_final.ipynb",
   "provenance": [],
   "version": "0.3.2"
  },
  "kernelspec": {
   "display_name": "Python 3",
   "language": "python",
   "name": "python3"
  },
  "language_info": {
   "codemirror_mode": {
    "name": "ipython",
    "version": 3
   },
   "file_extension": ".py",
   "mimetype": "text/x-python",
   "name": "python",
   "nbconvert_exporter": "python",
   "pygments_lexer": "ipython3",
   "version": "3.6.2"
  },
  "nbTranslate": {
   "displayLangs": [
    "fr",
    "en"
   ],
   "hotkey": "alt-t",
   "langInMainMenu": true,
   "sourceLang": "en",
   "targetLang": "fr",
   "useGoogleTranslate": true
  },
  "toc": {
   "base_numbering": 1,
   "nav_menu": {},
   "number_sections": true,
   "sideBar": true,
   "skip_h1_title": false,
   "title_cell": "Table of Contents",
   "title_sidebar": "Contents",
   "toc_cell": false,
   "toc_position": {},
   "toc_section_display": true,
   "toc_window_display": false
  },
  "varInspector": {
   "cols": {
    "lenName": 16,
    "lenType": 16,
    "lenVar": 40
   },
   "kernels_config": {
    "python": {
     "delete_cmd_postfix": "",
     "delete_cmd_prefix": "del ",
     "library": "var_list.py",
     "varRefreshCmd": "print(var_dic_list())"
    },
    "r": {
     "delete_cmd_postfix": ") ",
     "delete_cmd_prefix": "rm(",
     "library": "var_list.r",
     "varRefreshCmd": "cat(var_dic_list()) "
    }
   },
   "types_to_exclude": [
    "module",
    "function",
    "builtin_function_or_method",
    "instance",
    "_Feature"
   ],
   "window_display": false
  }
 },
 "nbformat": 4,
 "nbformat_minor": 1
}
