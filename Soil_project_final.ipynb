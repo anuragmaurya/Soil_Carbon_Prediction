{
  "nbformat": 4,
  "nbformat_minor": 0,
  "metadata": {
    "colab": {
      "name": "Soil_project_final.ipynb",
      "version": "0.3.2",
      "provenance": []
    },
    "kernelspec": {
      "name": "python3",
      "display_name": "Python 3"
    },
    "accelerator": "TPU"
  },
  "cells": [
    {
      "metadata": {
        "id": "qANo4xGE6tAX",
        "colab_type": "code",
        "colab": {
          "base_uri": "https://localhost:8080/",
          "height": 34
        },
        "outputId": "b2216b01-6ec8-44d8-a259-1d4373b811c7"
      },
      "cell_type": "code",
      "source": [
        "from google.colab import drive\n",
        "drive.mount('/content/drive')"
      ],
      "execution_count": 1,
      "outputs": [
        {
          "output_type": "stream",
          "text": [
            "Mounted at /content/drive\n"
          ],
          "name": "stdout"
        }
      ]
    },
    {
      "metadata": {
        "id": "7wzzwRWe60NW",
        "colab_type": "code",
        "colab": {
          "base_uri": "https://localhost:8080/",
          "height": 34
        },
        "outputId": "2a238fde-2021-4258-cd4a-a46c055aa67e"
      },
      "cell_type": "code",
      "source": [
        "!ls"
      ],
      "execution_count": 2,
      "outputs": [
        {
          "output_type": "stream",
          "text": [
            "drive  sample_data\n"
          ],
          "name": "stdout"
        }
      ]
    },
    {
      "metadata": {
        "id": "xLUj8pjH7Qtk",
        "colab_type": "code",
        "colab": {}
      },
      "cell_type": "code",
      "source": [
        "import numpy as np\n",
        "import pandas as pd\n",
        "import os\n",
        "from skimage.transform import resize\n",
        "from skimage.io import imread"
      ],
      "execution_count": 0,
      "outputs": []
    },
    {
      "metadata": {
        "id": "Oup0S59P7b5d",
        "colab_type": "code",
        "colab": {
          "base_uri": "https://localhost:8080/",
          "height": 71
        },
        "outputId": "aa08666a-6f46-4928-f559-3083f206fea9"
      },
      "cell_type": "code",
      "source": [
        "y=np.asarray(pd.read_csv('drive/My Drive/Soil_Samples/different_features_values_of_all_samples.csv')['carbon_percent'])\n",
        "images = []\n",
        "tr_path, ts_path=[],[]\n",
        "for image_path in os.listdir('drive/My Drive/Soil_Samples/Selected_Cropped_Images'):\n",
        "    path='drive/My Drive/Soil_Samples/Selected_Cropped_Images'+ '/' + image_path\n",
        "    tr_path.append(path)\n",
        "    img = imread(path)\n",
        "    img = resize(img, (800, 1120, 3))\n",
        "    images.append(img)\n",
        "\n",
        "X=np.asarray(images)    "
      ],
      "execution_count": 4,
      "outputs": [
        {
          "output_type": "stream",
          "text": [
            "/usr/local/lib/python3.6/dist-packages/skimage/transform/_warps.py:84: UserWarning: The default mode, 'constant', will be changed to 'reflect' in skimage 0.15.\n",
            "  warn(\"The default mode, 'constant', will be changed to 'reflect' in \"\n"
          ],
          "name": "stderr"
        }
      ]
    },
    {
      "metadata": {
        "id": "BlX3J9VU7b7X",
        "colab_type": "code",
        "colab": {}
      },
      "cell_type": "code",
      "source": [
        "from sklearn.model_selection import train_test_split\n",
        "\n",
        "X_train, X_test, y_train, y_test = train_test_split(X, y,  test_size=0.25)"
      ],
      "execution_count": 0,
      "outputs": []
    },
    {
      "metadata": {
        "id": "_5kVz5uW7zoc",
        "colab_type": "code",
        "colab": {
          "base_uri": "https://localhost:8080/",
          "height": 34
        },
        "outputId": "b19430df-164a-4931-bda5-7374aa35ce7b"
      },
      "cell_type": "code",
      "source": [
        "from keras.models import Sequential\n",
        "from keras.layers import Conv2D\n",
        "from keras.layers import MaxPooling2D, Dropout\n",
        "from keras.layers import Flatten\n",
        "from keras.layers import Dense\n"
      ],
      "execution_count": 6,
      "outputs": [
        {
          "output_type": "stream",
          "text": [
            "Using TensorFlow backend.\n"
          ],
          "name": "stderr"
        }
      ]
    },
    {
      "metadata": {
        "id": "BPsuXQ8k7zqU",
        "colab_type": "code",
        "colab": {}
      },
      "cell_type": "code",
      "source": [
        "regressor = Sequential()"
      ],
      "execution_count": 0,
      "outputs": []
    },
    {
      "metadata": {
        "id": "2BFolMZa7zs9",
        "colab_type": "code",
        "colab": {}
      },
      "cell_type": "code",
      "source": [
        "# Step 1 - Convolution\n",
        "regressor.add(Conv2D(32, (3, 3), input_shape = (800, 1120, 3), activation = 'relu'))"
      ],
      "execution_count": 0,
      "outputs": []
    },
    {
      "metadata": {
        "id": "r-4jtyVs7zwu",
        "colab_type": "code",
        "colab": {}
      },
      "cell_type": "code",
      "source": [
        "# Step 2 - Pooling\n",
        "regressor.add(MaxPooling2D(pool_size = (2, 2)))\n",
        "regressor.add(Conv2D(64, (3, 3), activation = 'relu'))\n",
        "regressor.add(MaxPooling2D(pool_size = (2, 2)))\n",
        "regressor.add(Conv2D(32, (3, 3), activation = 'relu'))\n",
        "regressor.add(MaxPooling2D(pool_size = (2, 2)))\n",
        "regressor.add(Conv2D(32, (3, 3), activation = 'relu'))\n",
        "regressor.add(MaxPooling2D(pool_size = (2, 2)))\n",
        "regressor.add(Dropout(0.3))"
      ],
      "execution_count": 0,
      "outputs": []
    },
    {
      "metadata": {
        "id": "FQ6HscT47b_F",
        "colab_type": "code",
        "colab": {}
      },
      "cell_type": "code",
      "source": [
        "regressor.add(Flatten())"
      ],
      "execution_count": 0,
      "outputs": []
    },
    {
      "metadata": {
        "id": "fLiTvlV18voJ",
        "colab_type": "code",
        "colab": {}
      },
      "cell_type": "code",
      "source": [
        "# Step 4 - Full connection\n",
        "regressor.add(Dense(units = 8, activation = 'relu'))\n",
        "regressor.add(Dense(units = 1, activation = 'linear'))"
      ],
      "execution_count": 0,
      "outputs": []
    },
    {
      "metadata": {
        "id": "os6vfQrI8vqI",
        "colab_type": "code",
        "colab": {
          "base_uri": "https://localhost:8080/",
          "height": 544
        },
        "outputId": "99fe0724-fa6b-40bd-ca94-b8b361f05434"
      },
      "cell_type": "code",
      "source": [
        "# Compiling the CNN\n",
        "regressor.compile(optimizer = 'adam', loss = 'mse', metrics = ['mae'])\n",
        "regressor.fit(X_train, y_train, batch_size =8, epochs =15)\n"
      ],
      "execution_count": 41,
      "outputs": [
        {
          "output_type": "stream",
          "text": [
            "Epoch 1/15\n",
            "79/79 [==============================] - 10s 130ms/step - loss: 1.3431 - mean_absolute_error: 0.8552\n",
            "Epoch 2/15\n",
            "79/79 [==============================] - 10s 123ms/step - loss: 1.0727 - mean_absolute_error: 0.8081\n",
            "Epoch 3/15\n",
            "79/79 [==============================] - 10s 123ms/step - loss: 1.0411 - mean_absolute_error: 0.7604\n",
            "Epoch 4/15\n",
            "79/79 [==============================] - 10s 123ms/step - loss: 1.0142 - mean_absolute_error: 0.8116\n",
            "Epoch 5/15\n",
            "79/79 [==============================] - 10s 125ms/step - loss: 1.0889 - mean_absolute_error: 0.8070\n",
            "Epoch 6/15\n",
            "79/79 [==============================] - 10s 123ms/step - loss: 1.0514 - mean_absolute_error: 0.6895\n",
            "Epoch 7/15\n",
            "79/79 [==============================] - 10s 124ms/step - loss: 1.1651 - mean_absolute_error: 0.9017\n",
            "Epoch 8/15\n",
            "79/79 [==============================] - 10s 123ms/step - loss: 1.4889 - mean_absolute_error: 0.7340\n",
            "Epoch 9/15\n",
            "79/79 [==============================] - 10s 122ms/step - loss: 1.2249 - mean_absolute_error: 0.8885\n",
            "Epoch 10/15\n",
            "79/79 [==============================] - 10s 122ms/step - loss: 1.0979 - mean_absolute_error: 0.6836\n",
            "Epoch 11/15\n",
            "79/79 [==============================] - 10s 123ms/step - loss: 1.0235 - mean_absolute_error: 0.8478\n",
            "Epoch 12/15\n",
            "79/79 [==============================] - 10s 123ms/step - loss: 1.0292 - mean_absolute_error: 0.6706\n",
            "Epoch 13/15\n",
            "79/79 [==============================] - 10s 123ms/step - loss: 0.9953 - mean_absolute_error: 0.7901\n",
            "Epoch 14/15\n",
            "79/79 [==============================] - 10s 131ms/step - loss: 1.0782 - mean_absolute_error: 0.8241\n",
            "Epoch 15/15\n",
            "79/79 [==============================] - 10s 128ms/step - loss: 1.0581 - mean_absolute_error: 0.6757\n"
          ],
          "name": "stdout"
        },
        {
          "output_type": "execute_result",
          "data": {
            "text/plain": [
              "<keras.callbacks.History at 0x7f7d8c604828>"
            ]
          },
          "metadata": {
            "tags": []
          },
          "execution_count": 41
        }
      ]
    },
    {
      "metadata": {
        "id": "9ypXuqEy8vwL",
        "colab_type": "code",
        "colab": {}
      },
      "cell_type": "code",
      "source": [
        "y_pred = regressor.predict(X_test)"
      ],
      "execution_count": 0,
      "outputs": []
    },
    {
      "metadata": {
        "id": "OrMXX9c7_KTb",
        "colab_type": "code",
        "colab": {
          "base_uri": "https://localhost:8080/",
          "height": 34
        },
        "outputId": "661bd99e-4d70-4885-9555-0b30217b0390"
      },
      "cell_type": "code",
      "source": [
        "from sklearn.metrics import r2_score\n",
        "r2_score(y_test,y_pred)"
      ],
      "execution_count": 3,
      "outputs": [
        {
          "output_type": "stream",
          "text": [
            "0.7829018223266836\n"
          ],
          "name": "stdout"
        }
      ]
    },
    {
      "metadata": {
        "id": "XEuDRdZPLjRX",
        "colab_type": "code",
        "colab": {}
      },
      "cell_type": "code",
      "source": [
        ""
      ],
      "execution_count": 0,
      "outputs": []
    }
  ]
}